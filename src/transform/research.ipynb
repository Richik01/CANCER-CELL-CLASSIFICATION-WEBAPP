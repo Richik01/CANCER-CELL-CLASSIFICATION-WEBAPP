{
 "cells": [
  {
   "cell_type": "code",
   "execution_count": 1,
   "metadata": {},
   "outputs": [],
   "source": [
    "import pandas as pd\n",
    "import os"
   ]
  },
  {
   "cell_type": "code",
   "execution_count": 2,
   "metadata": {},
   "outputs": [
    {
     "data": {
      "text/plain": [
       "'/home/richik/realtime-cancer-prediction-app/data'"
      ]
     },
     "execution_count": 2,
     "metadata": {},
     "output_type": "execute_result"
    }
   ],
   "source": [
    "os.chdir('/home/richik/realtime-cancer-prediction-app/data')\n",
    "os.getcwd()"
   ]
  },
  {
   "cell_type": "code",
   "execution_count": 3,
   "metadata": {},
   "outputs": [],
   "source": [
    "df = pd.read_csv('data.csv')"
   ]
  },
  {
   "cell_type": "code",
   "execution_count": 4,
   "metadata": {},
   "outputs": [
    {
     "data": {
      "text/plain": [
       "Index(['Unnamed: 0', 'radius1', 'texture1', 'perimeter1', 'area1',\n",
       "       'smoothness1', 'compactness1', 'concavity1', 'concave_points1',\n",
       "       'symmetry1', 'fractal_dimension1', 'radius2', 'texture2', 'perimeter2',\n",
       "       'area2', 'smoothness2', 'compactness2', 'concavity2', 'concave_points2',\n",
       "       'symmetry2', 'fractal_dimension2', 'radius3', 'texture3', 'perimeter3',\n",
       "       'area3', 'smoothness3', 'compactness3', 'concavity3', 'concave_points3',\n",
       "       'symmetry3', 'fractal_dimension3', 'Diagnosis'],\n",
       "      dtype='object')"
      ]
     },
     "execution_count": 4,
     "metadata": {},
     "output_type": "execute_result"
    }
   ],
   "source": [
    "df.columns"
   ]
  },
  {
   "cell_type": "markdown",
   "metadata": {},
   "source": [
    "### Checking for null values"
   ]
  },
  {
   "cell_type": "code",
   "execution_count": 5,
   "metadata": {},
   "outputs": [
    {
     "data": {
      "text/plain": [
       "Series([], dtype: int64)"
      ]
     },
     "execution_count": 5,
     "metadata": {},
     "output_type": "execute_result"
    }
   ],
   "source": [
    "null_values = df.isnull().sum()\n",
    "null_values = null_values[null_values > 0]\n",
    "null_values"
   ]
  },
  {
   "cell_type": "markdown",
   "metadata": {},
   "source": [
    "### Transforming Data"
   ]
  },
  {
   "cell_type": "code",
   "execution_count": 8,
   "metadata": {},
   "outputs": [],
   "source": [
    "df['Diagnosis'] = df['Diagnosis'].map({'M':1,'B':0})"
   ]
  },
  {
   "cell_type": "code",
   "execution_count": 19,
   "metadata": {},
   "outputs": [
    {
     "name": "stdout",
     "output_type": "stream",
     "text": [
      "Unnamed: 0           -0.283615\n",
      "radius1               0.730029\n",
      "texture1              0.415185\n",
      "perimeter1            0.742636\n",
      "area1                 0.708984\n",
      "smoothness1           0.358560\n",
      "compactness1          0.596534\n",
      "concavity1            0.696360\n",
      "concave_points1       0.776614\n",
      "symmetry1             0.330499\n",
      "fractal_dimension1   -0.012838\n",
      "radius2               0.567134\n",
      "texture2             -0.008303\n",
      "perimeter2            0.556141\n",
      "area2                 0.548236\n",
      "smoothness2          -0.067016\n",
      "compactness2          0.292999\n",
      "concavity2            0.253730\n",
      "concave_points2       0.408042\n",
      "symmetry2            -0.006522\n",
      "fractal_dimension2    0.077972\n",
      "radius3               0.776454\n",
      "texture3              0.456903\n",
      "perimeter3            0.782914\n",
      "area3                 0.733825\n",
      "smoothness3           0.421465\n",
      "compactness3          0.590998\n",
      "concavity3            0.659610\n",
      "concave_points3       0.793566\n",
      "symmetry3             0.416294\n",
      "fractal_dimension3    0.323872\n",
      "Diagnosis             1.000000\n",
      "Name: Diagnosis, dtype: float64\n"
     ]
    }
   ],
   "source": [
    "correlation_with_diagnosis = df.corr()['Diagnosis']\n",
    "print(correlation_with_diagnosis)"
   ]
  },
  {
   "cell_type": "code",
   "execution_count": 21,
   "metadata": {},
   "outputs": [
    {
     "name": "stdout",
     "output_type": "stream",
     "text": [
      "Index(['radius1', 'perimeter1', 'area1', 'compactness1', 'concavity1',\n",
      "       'concave_points1', 'radius2', 'perimeter2', 'area2', 'radius3',\n",
      "       'perimeter3', 'area3', 'compactness3', 'concavity3', 'concave_points3',\n",
      "       'Diagnosis'],\n",
      "      dtype='object')\n"
     ]
    }
   ],
   "source": [
    "# Select features with a high degree of absolute correlation (greater than 0.5)\n",
    "features_for_logistic_regression = correlation_with_diagnosis[abs(correlation_with_diagnosis) > 0.5].index.tolist()\n",
    "features_for_logistic_regression.remove('Diagnosis')  # Remove 'Diagnosis' if included\n",
    "\n",
    "# Create a new DataFrame with selected features and 'Diagnosis'\n",
    "features_df = df[features_for_logistic_regression + ['Diagnosis']]\n",
    "    \n",
    "# Display the new DataFrame\n",
    "print(features_df.columns)\n",
    "\n"
   ]
  },
  {
   "cell_type": "code",
   "execution_count": null,
   "metadata": {},
   "outputs": [],
   "source": [
    "features_df.to_csv('features_for_logistic_regression.csv', index=False)"
   ]
  }
 ],
 "metadata": {
  "kernelspec": {
   "display_name": "env",
   "language": "python",
   "name": "python3"
  },
  "language_info": {
   "codemirror_mode": {
    "name": "ipython",
    "version": 3
   },
   "file_extension": ".py",
   "mimetype": "text/x-python",
   "name": "python",
   "nbconvert_exporter": "python",
   "pygments_lexer": "ipython3",
   "version": "3.10.12"
  }
 },
 "nbformat": 4,
 "nbformat_minor": 2
}
