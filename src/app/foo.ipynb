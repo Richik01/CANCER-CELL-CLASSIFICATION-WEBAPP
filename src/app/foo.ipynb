{
 "cells": [
  {
   "cell_type": "code",
   "execution_count": 20,
   "metadata": {},
   "outputs": [],
   "source": [
    "import os\n",
    "os.chdir('./data/')"
   ]
  },
  {
   "cell_type": "code",
   "execution_count": 19,
   "metadata": {},
   "outputs": [
    {
     "data": {
      "text/plain": [
       "'c:\\\\Users\\\\ADMIN\\\\Documents\\\\GitHub\\\\Ana'"
      ]
     },
     "execution_count": 19,
     "metadata": {},
     "output_type": "execute_result"
    }
   ],
   "source": [
    "os.getcwd()"
   ]
  },
  {
   "cell_type": "code",
   "execution_count": 36,
   "metadata": {},
   "outputs": [],
   "source": [
    "import pickle\n",
    "\n",
    "with open('scaler.pkl','rb') as file:\n",
    "    ss = pickle.load(file)"
   ]
  },
  {
   "cell_type": "code",
   "execution_count": 39,
   "metadata": {},
   "outputs": [
    {
     "data": {
      "text/plain": [
       "array([[-1.09325086],\n",
       "       [-0.94597618],\n",
       "       [-1.04634115],\n",
       "       [ 0.9424125 ],\n",
       "       [ 0.11294695],\n",
       "       [ 0.13294722],\n",
       "       [-0.5532437 ],\n",
       "       [ 1.76315065],\n",
       "       [-0.30851318],\n",
       "       [-1.11543297],\n",
       "       [-0.46560617],\n",
       "       [-0.97252199],\n",
       "       [ 1.79115102],\n",
       "       [ 0.54313447],\n",
       "       [ 1.21514339]])"
      ]
     },
     "execution_count": 39,
     "metadata": {},
     "output_type": "execute_result"
    }
   ],
   "source": [
    "import numpy as np\n",
    "l = np.array([[[-0.6212, -0.5807, -0.6083, -0.0614, -0.2895, -0.2840, -0.4727,  0.1643,-0.4054, -0.6273, -0.4486, -0.5880,  0.1720, -0.1712,  0.0136]]])\n",
    "l = l.reshape(-1,1)\n",
    "ss.transform(l)"
   ]
  }
 ],
 "metadata": {
  "kernelspec": {
   "display_name": "env",
   "language": "python",
   "name": "python3"
  },
  "language_info": {
   "codemirror_mode": {
    "name": "ipython",
    "version": 3
   },
   "file_extension": ".py",
   "mimetype": "text/x-python",
   "name": "python",
   "nbconvert_exporter": "python",
   "pygments_lexer": "ipython3",
   "version": "3.10.0"
  }
 },
 "nbformat": 4,
 "nbformat_minor": 2
}
